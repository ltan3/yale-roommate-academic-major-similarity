{
 "cells": [
  {
   "cell_type": "code",
   "execution_count": 1,
   "metadata": {},
   "outputs": [],
   "source": [
    "import csv\n",
    "from collections import Counter, defaultdict\n",
    "import itertools\n",
    "import pandas as pd\n",
    "import numpy as np"
   ]
  },
  {
   "cell_type": "code",
   "execution_count": 2,
   "metadata": {},
   "outputs": [],
   "source": [
    "filename = 'bipartite.suites_only.el.csv'\n",
    "room2year = dict() # room to grad year mapping\n",
    "room2majors = defaultdict(Counter) # room to counter of majors in the room\n",
    "all_majors = set() # set of majors\n",
    "with open(filename, newline='') as f:\n",
    "    reader = csv.DictReader(f)\n",
    "    for line in reader:\n",
    "        room, major, weight, year = line['room'], line['major'], int(line['weight']), line['year']\n",
    "        if room not in room2year:\n",
    "            room2year[room] = year\n",
    "        room2majors[room][major] += weight\n",
    "        all_majors.add(major)"
   ]
  },
  {
   "cell_type": "code",
   "execution_count": 13,
   "metadata": {},
   "outputs": [],
   "source": [
    "all_majors = sorted(list(all_majors))\n",
    "all_majors_map = {m : i for i, m in enumerate(all_majors)} # map major to index"
   ]
  },
  {
   "cell_type": "code",
   "execution_count": 46,
   "metadata": {},
   "outputs": [],
   "source": [
    "# slow\n",
    "for year in ['2019', '2020', '2021', '2022']:\n",
    "    edges = list()\n",
    "#     adjacency = pd.DataFrame(0, index=all_majors, columns=all_majors, dtype=np.int8)\n",
    "    for room, majors_counter in room2majors.items():\n",
    "        if room2year[room] != year:\n",
    "            continue\n",
    "        pairs = itertools.combinations(majors_counter.elements(), 2)\n",
    "        pairs = [sorted(p) for p in pairs]\n",
    "        for m1, m2 in pairs:\n",
    "            edges.append( [room, year, m1, m2] )\n",
    "#             adjacency.loc[m1, m2] += 1\n",
    "#             if (m2 != m1):\n",
    "#                 adjacency.loc[m2, m1] += 1\n",
    "                \n",
    "#     adjacency.to_csv('collapsed.adjacency.'+year+'.py.csv', header=True, index=True)\n",
    "    with open('collapsed.el.'+year+'.py.csv', 'w') as outfile:\n",
    "        writer = csv.writer(outfile)\n",
    "        writer.writerow(['room', 'year', 'Source', 'Target'])\n",
    "        for e in edges:\n",
    "            writer.writerow(e)"
   ]
  },
  {
   "cell_type": "code",
   "execution_count": null,
   "metadata": {},
   "outputs": [],
   "source": []
  }
 ],
 "metadata": {
  "kernelspec": {
   "display_name": "Python 3",
   "language": "python",
   "name": "python3"
  },
  "language_info": {
   "codemirror_mode": {
    "name": "ipython",
    "version": 3
   },
   "file_extension": ".py",
   "mimetype": "text/x-python",
   "name": "python",
   "nbconvert_exporter": "python",
   "pygments_lexer": "ipython3",
   "version": "3.6.7"
  }
 },
 "nbformat": 4,
 "nbformat_minor": 2
}
