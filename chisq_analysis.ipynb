{
 "cells": [
  {
   "cell_type": "code",
   "execution_count": 1,
   "metadata": {},
   "outputs": [],
   "source": [
    "import pandas as pd\n",
    "import numpy as np\n",
    "from scipy import stats"
   ]
  },
  {
   "cell_type": "code",
   "execution_count": 11,
   "metadata": {},
   "outputs": [],
   "source": [
    "filename = 'collapsed.adjacency.2021.category1b.csv'"
   ]
  },
  {
   "cell_type": "code",
   "execution_count": 12,
   "metadata": {},
   "outputs": [],
   "source": [
    "d = pd.read_csv(filename, index_col=0)"
   ]
  },
  {
   "cell_type": "code",
   "execution_count": 13,
   "metadata": {},
   "outputs": [],
   "source": [
    "# d = d.iloc[:-1, :-1] # omit undeclared"
   ]
  },
  {
   "cell_type": "code",
   "execution_count": 14,
   "metadata": {},
   "outputs": [],
   "source": [
    "sums = d.apply(sum, axis=0)\n",
    "sum_all = sum(sums)"
   ]
  },
  {
   "cell_type": "code",
   "execution_count": 15,
   "metadata": {},
   "outputs": [
    {
     "data": {
      "text/plain": [
       "Index(['Physical Science, Engineering, Mathematics',\n",
       "       'Arts, Philosophy, Humanities, History',\n",
       "       'Life Sciences, Environmental Sciences',\n",
       "       'Area, Ethnic, Multidiciplinary',\n",
       "       'Social Sciences, Economics, Political Science', 'Undeclared'],\n",
       "      dtype='object')"
      ]
     },
     "execution_count": 15,
     "metadata": {},
     "output_type": "execute_result"
    }
   ],
   "source": [
    "top_majors = d.columns\n",
    "top_majors"
   ]
  },
  {
   "cell_type": "code",
   "execution_count": 16,
   "metadata": {},
   "outputs": [],
   "source": [
    "def do_chisq(rowname):\n",
    "    observed = d.loc[top_majors, rowname]\n",
    "    \n",
    "    agg = sums[top_majors]\n",
    "    expected = agg / sum(agg) * sum(observed)\n",
    "    print(observed - expected)\n",
    "    \n",
    "    chisq = (observed - expected) ** 2 / expected\n",
    "    chisq_score = sum(chisq)\n",
    "    df = len(chisq) - 1\n",
    "    p = 1 - stats.chi2.cdf(chisq_score, df)\n",
    "    print('Number of observations:\\t{}'.format(sum(observed)))\n",
    "    print('Sum of residuals:\\t{}'.format(sum(observed - expected)))\n",
    "    print('Chi squared score:\\t{}'.format(chisq_score))\n",
    "    print('df:\\t{}'.format(df))\n",
    "    print('p value:\\t{}'.format(p))"
   ]
  },
  {
   "cell_type": "code",
   "execution_count": 17,
   "metadata": {},
   "outputs": [
    {
     "name": "stdout",
     "output_type": "stream",
     "text": [
      "===Physical Science, Engineering, Mathematics===\n",
      "Physical Science, Engineering, Mathematics       40.919403\n",
      "Arts, Philosophy, Humanities, History           -15.103887\n",
      "Life Sciences, Environmental Sciences             2.661193\n",
      "Area, Ethnic, Multidiciplinary                  -22.417225\n",
      "Social Sciences, Economics, Political Science    -0.315349\n",
      "Undeclared                                       -5.744135\n",
      "dtype: float64\n",
      "Number of observations:\t1159\n",
      "Sum of residuals:\t1.4210854715202004e-14\n",
      "Chi squared score:\t16.403859161998575\n",
      "df:\t5\n",
      "p value:\t0.0057808188479469\n",
      "===Arts, Philosophy, Humanities, History===\n",
      "Physical Science, Engineering, Mathematics      -15.103887\n",
      "Arts, Philosophy, Humanities, History            21.412869\n",
      "Life Sciences, Environmental Sciences             2.207775\n",
      "Area, Ethnic, Multidiciplinary                    7.674263\n",
      "Social Sciences, Economics, Political Science     5.888740\n",
      "Undeclared                                      -22.079759\n",
      "dtype: float64\n",
      "Number of observations:\t948\n",
      "Sum of residuals:\t-2.1316282072803006e-14\n",
      "Chi squared score:\t7.4744817173361575\n",
      "df:\t5\n",
      "p value:\t0.1876753037565997\n",
      "===Life Sciences, Environmental Sciences===\n",
      "Physical Science, Engineering, Mathematics       2.661193\n",
      "Arts, Philosophy, Humanities, History            2.207775\n",
      "Life Sciences, Environmental Sciences            3.677614\n",
      "Area, Ethnic, Multidiciplinary                   4.834450\n",
      "Social Sciences, Economics, Political Science   -8.369303\n",
      "Undeclared                                      -5.011729\n",
      "dtype: float64\n",
      "Number of observations:\t666\n",
      "Sum of residuals:\t2.1316282072803006e-14\n",
      "Chi squared score:\t1.5468294270218992\n",
      "df:\t5\n",
      "p value:\t0.9076032655647882\n",
      "===Area, Ethnic, Multidiciplinary===\n",
      "Physical Science, Engineering, Mathematics      -22.417225\n",
      "Arts, Philosophy, Humanities, History             7.674263\n",
      "Life Sciences, Environmental Sciences             4.834450\n",
      "Area, Ethnic, Multidiciplinary                   12.401475\n",
      "Social Sciences, Economics, Political Science    13.972520\n",
      "Undeclared                                      -16.465483\n",
      "dtype: float64\n",
      "Number of observations:\t342\n",
      "Sum of residuals:\t0.0\n",
      "Chi squared score:\t22.79871248022183\n",
      "df:\t5\n",
      "p value:\t0.0003688228817567696\n",
      "===Social Sciences, Economics, Political Science===\n",
      "Physical Science, Engineering, Mathematics       -0.315349\n",
      "Arts, Philosophy, Humanities, History             5.888740\n",
      "Life Sciences, Environmental Sciences            -8.369303\n",
      "Area, Ethnic, Multidiciplinary                   13.972520\n",
      "Social Sciences, Economics, Political Science    17.784853\n",
      "Undeclared                                      -28.961461\n",
      "dtype: float64\n",
      "Number of observations:\t1222\n",
      "Sum of residuals:\t-2.842170943040401e-14\n",
      "Chi squared score:\t7.2563153773198525\n",
      "df:\t5\n",
      "p value:\t0.202265017602399\n",
      "===Undeclared===\n",
      "Physical Science, Engineering, Mathematics       -5.744135\n",
      "Arts, Philosophy, Humanities, History           -22.079759\n",
      "Life Sciences, Environmental Sciences            -5.011729\n",
      "Area, Ethnic, Multidiciplinary                  -16.465483\n",
      "Social Sciences, Economics, Political Science   -28.961461\n",
      "Undeclared                                       78.262567\n",
      "dtype: float64\n",
      "Number of observations:\t1631\n",
      "Sum of residuals:\t1.4210854715202004e-14\n",
      "Chi squared score:\t21.277460315958557\n",
      "df:\t5\n",
      "p value:\t0.0007178783199039973\n"
     ]
    }
   ],
   "source": [
    "for m in top_majors:\n",
    "    print('==='+m+'===')\n",
    "    do_chisq(m)"
   ]
  }
 ],
 "metadata": {
  "kernelspec": {
   "display_name": "Python 3",
   "language": "python",
   "name": "python3"
  },
  "language_info": {
   "codemirror_mode": {
    "name": "ipython",
    "version": 3
   },
   "file_extension": ".py",
   "mimetype": "text/x-python",
   "name": "python",
   "nbconvert_exporter": "python",
   "pygments_lexer": "ipython3",
   "version": "3.6.7"
  }
 },
 "nbformat": 4,
 "nbformat_minor": 2
}
