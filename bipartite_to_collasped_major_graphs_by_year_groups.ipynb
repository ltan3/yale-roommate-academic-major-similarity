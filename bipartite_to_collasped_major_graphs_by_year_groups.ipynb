{
 "cells": [
  {
   "cell_type": "code",
   "execution_count": 1,
   "metadata": {},
   "outputs": [],
   "source": [
    "import csv\n",
    "from collections import Counter, defaultdict\n",
    "import itertools\n",
    "import pandas as pd\n",
    "import numpy as np"
   ]
  },
  {
   "cell_type": "code",
   "execution_count": 2,
   "metadata": {},
   "outputs": [],
   "source": [
    "filename = 'bipartite.suites_only.el.csv'\n",
    "room2year = dict() # room to grad year mapping\n",
    "room2majors = defaultdict(Counter) # room to counter of majors in the room\n",
    "all_majors = set() # set of majors\n",
    "with open(filename, newline='') as f:\n",
    "    reader = csv.DictReader(f)\n",
    "    for line in reader:\n",
    "        room, major, weight, year = line['room'], line['major'], int(line['weight']), line['year']\n",
    "        if room not in room2year:\n",
    "            room2year[room] = year\n",
    "        room2majors[room][major] += weight\n",
    "        all_majors.add(major)"
   ]
  },
  {
   "cell_type": "code",
   "execution_count": 3,
   "metadata": {},
   "outputs": [],
   "source": [
    "all_majors = sorted(list(all_majors))\n",
    "all_majors_map = {m : i for i, m in enumerate(all_majors)} # map major to index"
   ]
  },
  {
   "cell_type": "code",
   "execution_count": 4,
   "metadata": {},
   "outputs": [
    {
     "data": {
      "text/plain": [
       "['Economics',\n",
       " 'Political Science',\n",
       " 'History',\n",
       " 'English, Philosophy, Art, Humanities',\n",
       " 'Computer Science, Statistics, Math',\n",
       " 'Life Sciences, Environmental Sciences',\n",
       " 'Social Sciences',\n",
       " 'Area, Multidiciplinary',\n",
       " 'Engineering',\n",
       " 'Physical Sciences',\n",
       " 'Undeclared']"
      ]
     },
     "execution_count": 4,
     "metadata": {},
     "output_type": "execute_result"
    }
   ],
   "source": [
    "# major2category = {\"Undeclared\":\"Undeclared\", \"Economics\":\"Economics\", \"Political Science\":\"Political Science\", \"History\":\"History\", \"Computer Science\":\"Computer Science, Statistics, Math\", \"Molecular,Cellular,Dev Biology\":\"Life Sciences, Environmental Sciences\", \"Global Affairs\":\"Political Science\", \"Psychology\":\"Social Sciences\", \"English\":\"English, Philosophy, Art, Humanities\", \"Ethics,Politics & Economics\":\"Area, Multidiciplinary\", \"Statistics and Data Science\":\"Computer Science, Statistics, Math\", \"Mechanical Engineering\":\"Engineering\", \"Molecular Biophysics & Biochem\":\"Engineering\", \"Ecology & Evolutionary Biology\":\"Life Sciences, Environmental Sciences\", \"Biomedical Engineering\":\"Engineering\", \"Cognitive Science\":\"Social Sciences\", \"History Science, Medicine & PH\":\"History\", \"Neuroscience\":\"Life Sciences, Environmental Sciences\", \"Environmental Studies\":\"Life Sciences, Environmental Sciences\", \"Ethnicity, Race & Migration\":\"Area, Multidiciplinary\", \"Mathematics\":\"Computer Science, Statistics, Math\", \"Physics (Int.)\":\"Physical Sciences\", \"American Studies\":\"Area, Multidiciplinary\", \"Applied Mathematics\":\"Computer Science, Statistics, Math\", \"Chemical Engineering\":\"Engineering\", \"Chemistry\":\"Physical Sciences\", \"Elec.Engineering/Computer Sci\":\"Engineering\", \"Economics & Mathematics\":\"Economics\", \"History of Art\":\"History\", \"Music\":\"English, Philosophy, Art, Humanities\", \"Physics\":\"Physical Sciences\", \"Philosophy\":\"English, Philosophy, Art, Humanities\", \"Computing and the Arts\":\"English, Philosophy, Art, Humanities\", \"Humanities\":\"English, Philosophy, Art, Humanities\", \"Computer Science & Mathematics\":\"Computer Science, Statistics, Math\", \"Molecular,Cellular,DevBio(Int)\":\"Life Sciences, Environmental Sciences\", \"Sociology\":\"Social Sciences\", \"Art\":\"English, Philosophy, Art, Humanities\", \"Theater Studies\":\"English, Philosophy, Art, Humanities\", \"Anthropology\":\"Social Sciences\", \"Architecture\":\"English, Philosophy, Art, Humanities\", \"Environmental Engineering\":\"Engineering\", \"Electrical Engineering\":\"Engineering\", \"Film and Media Studies\":\"English, Philosophy, Art, Humanities\", \"Chemistry (Int.)\":\"Physical Sciences\", \"Linguistics\":\"Social Sciences\", \"Classics\":\"English, Philosophy, Art, Humanities\", \"Computer Science & Psychology\":\"Social Sciences\", \"Engineering Science-Mechanical\":\"Engineering\", \"Mathematics (Int.)\":\"Computer Science, Statistics, Math\", \"Mathematics & Philosophy\":\"Computer Science, Statistics, Math\", \"East Asian Studies\":\"Area, Multidiciplinary\", \"Geology & Geophysics\":\"Physical Sciences\", \"African American Studies\":\"Area, Multidiciplinary\", \"Astrophysics\":\"Physical Sciences\", \"Mathematics & Physics\":\"Physical Sciences\", \"Religious Studies\":\"Area, Multidiciplinary\", \"Applied Physics\":\"Physical Sciences\", \"Sociology (Int.)\":\"Social Sciences\", \"Women'sGender&SexualityStudies\":\"Area, Multidiciplinary\", \"Engineering Science-Chemical\":\"Engineering\", \"Modern Middle Eastern Studies\":\"Area, Multidiciplinary\", \"Physics & Philosophy\":\"English, Philosophy, Art, Humanities\", \"Russian & E European Studies\":\"Area, Multidiciplinary\", \"Comparative Literature\":\"Area, Multidiciplinary\", \"French\":\"Area, Multidiciplinary\", \"Near Eastern Languages & Civs\":\"Area, Multidiciplinary\", \"Political Science (Int.)\":\"Political Science\", \"Archaeological Studies\":\"Social Sciences\", \"Astronomy\":\"Physical Sciences\", \"East Asian Languages & Lits\":\"Area, Multidiciplinary\", \"Engineering Science-Electrical\":\"Engineering\", \"Lit. and Comparative Cultures\":\"Area, Multidiciplinary\", \"Music (Int.)\":\"English, Philosophy, Art, Humanities\", \"Spanish\":\"Area, Multidiciplinary\", \"African Studies\":\"Area, Multidiciplinary\", \"American Studies (Int.)\":\"Area, Multidiciplinary\", \"Classical Civilization\":\"English, Philosophy, Art, Humanities\", \"Geology & Natural Resources\":\"Life Sciences, Environmental Sciences\", \"Global Health\":\"Political Science\", \"Italian\":\"Area, Multidiciplinary\", \"Judaic Studies\":\"Area, Multidiciplinary\", \"Latin American Studies\":\"Area, Multidiciplinary\", \"Physics & Geosciences\":\"Life Sciences, Environmental Sciences\", \"Special Divisional Major\":\"Area, Multidiciplinary\"}\n",
    "# categories = [\"Economics\", \"Political Science\", \"History\", \"English, Philosophy, Art, Humanities\", \"Computer Science, Statistics, Math\", \"Life Sciences, Environmental Sciences\", \"Social Sciences\", \"Area, Multidiciplinary\", \"Engineering\", \"Physical Sciences\", \"Undeclared\"]\n",
    "from categories2 import major2category, categories\n",
    "categories"
   ]
  },
  {
   "cell_type": "code",
   "execution_count": 5,
   "metadata": {},
   "outputs": [],
   "source": [
    "# slow\n",
    "for year in ['2019', '2020', '2021', '2022']:\n",
    "    edges = list()\n",
    "    adjacency = pd.DataFrame(0, index=categories, columns=categories, dtype=np.int8)\n",
    "    for room, majors_counter in room2majors.items():\n",
    "        if room2year[room] != year:\n",
    "            continue\n",
    "        pairs = itertools.combinations(majors_counter.elements(), 2)\n",
    "        pairs = [sorted(p) for p in pairs]\n",
    "        for m1, m2 in pairs:\n",
    "            c1, c2 = major2category[m1], major2category[m2]\n",
    "            edges.append( [room, year, c1, c2] )\n",
    "            adjacency.loc[c1, c2] += 1\n",
    "            if (c2 != c1):\n",
    "                adjacency.loc[c2, c1] += 1\n",
    "                \n",
    "    adjacency.to_csv('collapsed.adjacency.'+year+'.category2.csv', header=True, index=True)\n",
    "    with open('collapsed.el.'+year+'.category2.csv', 'w') as outfile:\n",
    "        writer = csv.writer(outfile)\n",
    "        writer.writerow(['room', 'year', 'Source', 'Target'])\n",
    "        for e in edges:\n",
    "            writer.writerow(e)"
   ]
  },
  {
   "cell_type": "code",
   "execution_count": 6,
   "metadata": {},
   "outputs": [
    {
     "data": {
      "text/plain": [
       "'English, Philosophy, Art, Humanities'"
      ]
     },
     "execution_count": 6,
     "metadata": {},
     "output_type": "execute_result"
    }
   ],
   "source": [
    "major2category['English']"
   ]
  },
  {
   "cell_type": "code",
   "execution_count": null,
   "metadata": {},
   "outputs": [],
   "source": []
  }
 ],
 "metadata": {
  "kernelspec": {
   "display_name": "Python 3",
   "language": "python",
   "name": "python3"
  },
  "language_info": {
   "codemirror_mode": {
    "name": "ipython",
    "version": 3
   },
   "file_extension": ".py",
   "mimetype": "text/x-python",
   "name": "python",
   "nbconvert_exporter": "python",
   "pygments_lexer": "ipython3",
   "version": "3.6.7"
  }
 },
 "nbformat": 4,
 "nbformat_minor": 2
}
